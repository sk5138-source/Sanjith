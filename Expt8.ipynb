{
 "cells": [
  {
   "cell_type": "code",
   "execution_count": 2,
   "id": "3fa75c2c-7759-4d9e-b3c6-69a1f1736c01",
   "metadata": {},
   "outputs": [
    {
     "name": "stdout",
     "output_type": "stream",
     "text": [
      "Collecting hmmlearn\n",
      "  Downloading hmmlearn-0.3.3-cp313-cp313-win_amd64.whl.metadata (3.1 kB)\n",
      "Requirement already satisfied: numpy>=1.10 in c:\\users\\dell\\anaconda3\\lib\\site-packages (from hmmlearn) (2.1.3)\n",
      "Requirement already satisfied: scikit-learn!=0.22.0,>=0.16 in c:\\users\\dell\\anaconda3\\lib\\site-packages (from hmmlearn) (1.6.1)\n",
      "Requirement already satisfied: scipy>=0.19 in c:\\users\\dell\\anaconda3\\lib\\site-packages (from hmmlearn) (1.15.3)\n",
      "Requirement already satisfied: joblib>=1.2.0 in c:\\users\\dell\\anaconda3\\lib\\site-packages (from scikit-learn!=0.22.0,>=0.16->hmmlearn) (1.4.2)\n",
      "Requirement already satisfied: threadpoolctl>=3.1.0 in c:\\users\\dell\\anaconda3\\lib\\site-packages (from scikit-learn!=0.22.0,>=0.16->hmmlearn) (3.5.0)\n",
      "Downloading hmmlearn-0.3.3-cp313-cp313-win_amd64.whl (127 kB)\n",
      "Installing collected packages: hmmlearn\n",
      "Successfully installed hmmlearn-0.3.3\n",
      "Note: you may need to restart the kernel to use updated packages.\n"
     ]
    }
   ],
   "source": [
    "pip install hmmlearn"
   ]
  },
  {
   "cell_type": "code",
   "execution_count": 3,
   "id": "e79651a7-dae0-40bb-9981-bfafdae6bb24",
   "metadata": {},
   "outputs": [],
   "source": [
    "from hmmlearn import hmm\n",
    "import numpy as np"
   ]
  },
  {
   "cell_type": "code",
   "execution_count": 4,
   "id": "2dbfea53-7c29-4b12-9dcf-3d48bf1a170b",
   "metadata": {},
   "outputs": [],
   "source": [
    "# Hidden states and observation symbols\n",
    "states = [\"Sunny\", \"Rainy\"]\n",
    "observations = [\"Walk\", \"Shop\", \"Clean\"]"
   ]
  },
  {
   "cell_type": "code",
   "execution_count": 5,
   "id": "2238fb3c-76c9-471c-bcbf-a4589cdfeaef",
   "metadata": {},
   "outputs": [],
   "source": [
    "# Define HMM parameters\n",
    "start_prob = np.array([0.7, 0.3])\n",
    "trans_mat = np.array([[0.8, 0.2],\n",
    "                     [0.3, 0.7]])\n",
    "emit_mat = np.array([[0.6, 0.3, 0.1],  # Sunny\n",
    "                    [0.1, 0.4, 0.5]])  # Rainy"
   ]
  },
  {
   "cell_type": "code",
   "execution_count": 6,
   "id": "d37c925f-542f-4bef-ae18-1d2bb0397bca",
   "metadata": {},
   "outputs": [
    {
     "name": "stderr",
     "output_type": "stream",
     "text": [
      "MultinomialHMM has undergone major changes. The previous version was implementing a CategoricalHMM (a special case of MultinomialHMM). This new implementation follows the standard definition for a Multinomial distribution (e.g. as in https://en.wikipedia.org/wiki/Multinomial_distribution). See these issues for details:\n",
      "https://github.com/hmmlearn/hmmlearn/issues/335\n",
      "https://github.com/hmmlearn/hmmlearn/issues/340\n"
     ]
    }
   ],
   "source": [
    "# Build the model\n",
    "model = hmm.MultinomialHMM(n_components=2, n_iter=100)\n",
    "model.startprob_ = start_prob\n",
    "model.transmat_ = trans_mat\n",
    "model.emissionprob_ = emit_mat\n",
    "model.n_trials = 1  # one trial per observation"
   ]
  },
  {
   "cell_type": "code",
   "execution_count": 7,
   "id": "f2bcca61-2ccf-4424-8313-d1698bbc44c1",
   "metadata": {},
   "outputs": [],
   "source": [
    "# Observed sequence: Walk(0), Shop(1), Clean(2), Shop(1), Walk(0)\n",
    "# Convert to one-hot representation (n_samples × n_symbols)\n",
    "obs_seq = np.array([\n",
    "    [1, 0, 0],  # Walk\n",
    "    [0, 1, 0],  # Shop\n",
    "    [0, 0, 1],  # Clean\n",
    "    [0, 1, 0],  # Shop\n",
    "    [1, 0, 0],  # Walk\n",
    "])"
   ]
  },
  {
   "cell_type": "code",
   "execution_count": 8,
   "id": "e4406871-3b2f-4921-aecd-641f59ae87ab",
   "metadata": {},
   "outputs": [
    {
     "name": "stdout",
     "output_type": "stream",
     "text": [
      "Observed sequence: ['Walk', 'Shop', 'Clean', 'Shop', 'Walk']\n",
      "Most likely hidden states: ['Sunny', 'Sunny', 'Sunny', 'Sunny', 'Sunny']\n",
      "Log probability: -6.98143109837347\n"
     ]
    }
   ],
   "source": [
    "# Decode (Viterbi)\n",
    "logprob, hidden_states = model.decode(obs_seq, algorithm=\"viterbi\")\n",
    "\n",
    "print(\"Observed sequence:\", [observations[np.argmax(o)] for o in obs_seq])\n",
    "print(\"Most likely hidden states:\", [states[i] for i in hidden_states])\n",
    "print(\"Log probability:\", logprob)"
   ]
  },
  {
   "cell_type": "code",
   "execution_count": null,
   "id": "d27ea91d-c5c0-421f-8d02-d6ccba5eb18f",
   "metadata": {},
   "outputs": [],
   "source": []
  }
 ],
 "metadata": {
  "kernelspec": {
   "display_name": "Python 3 (ipykernel)",
   "language": "python",
   "name": "python3"
  },
  "language_info": {
   "codemirror_mode": {
    "name": "ipython",
    "version": 3
   },
   "file_extension": ".py",
   "mimetype": "text/x-python",
   "name": "python",
   "nbconvert_exporter": "python",
   "pygments_lexer": "ipython3",
   "version": "3.13.5"
  }
 },
 "nbformat": 4,
 "nbformat_minor": 5
}
